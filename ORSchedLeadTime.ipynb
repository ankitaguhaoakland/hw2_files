{
 "cells": [
  {
   "cell_type": "markdown",
   "metadata": {},
   "source": [
    "## Analysis background ##\n",
    "\n",
    "We have a data file containing records corresponding to surgical cases. For each case we know some basic information about the patient's scheduled case including an urgency code, \n",
    "the date the case was scheduled, insurance status, surgical service, and the number of days prior to surgery in which the case was scheduled. In data model terms, the first 4 variables \n",
    "are dimensions and the last variable is a measure. Of course, we could certainly use things like SQL or Excel Pivot Tables to do very useful things with this data. \n",
    "In a [previous tutorial](http://hselab.org/getting-started-R-group-by.html) I showed how R can be used to do the same things as well as to do some things that are much more difficult using SQL or Excel. In this tutorial\n",
    "I'll do the same things as in the R tutorial but will use Python instead. Since many business analytics folks end up using both R and Python, it is important to be able to switch your brain between R and Python modes.\n",
    "\n",
    "This tutorial will just scratch the surface of getting started with Pandas. There are [numerous introductory tutorials](http://pandas.pydata.org/pandas-docs/dev/tutorials.html) and I encourage you to explore them. A word of warning, the Pandas book is starting to get a little outdated with respect to some details. So, the [official documentation](http://pandas.pydata.org/pandas-docs/stable/) is also a very good place to become familiar with.\n"
   ]
  },
  {
   "cell_type": "markdown",
   "metadata": {},
   "source": [
    "## Preliminaries ##\n",
    "Python is a major force in the scientific and analytic computing worlds. It's an easy language to learn, is very list-centric, dynamically typed, and has many\n",
    "contributed modules to facilitate the kinds of computing we do for business analytics. It's great for rapid development, algorithm testing, interactive\n",
    "data and model exploration, and as a \"glue\" or scripting language (like Perl or Ruby). It also has some similarities to R\n",
    "and to interactive environments like Matlab or Mathematica. There is a huge community of Python developers creating 3rd party modules for all kinds of computing problems. For\n",
    "example, [adodbpi](http://adodbapi.sourceforge.net/) is a module for connecting to databases using ADO from Python. I use it in my new Python based Hillmaker.\n",
    "Python is open source, free, and cross-platform. It is [fun to program in Python](http://xkcd.com/353/). For this tutorial, we'll use the IPython Notebook shell.\n",
    "\n",
    "IPython has something called [magic functions](http://ipython.org/ipython-doc/dev/interactive/tutorial.html) which start with the % sign and facilitate common tasks like interacting with the OS, controlling the IPython session, timing\n",
    "code, profiling code, getting a history of your session and many, many more. Just type %magic at the IPython prompt to get an overview. Hit <esc> to get back to the prompt. The '!' will let you \n",
    "enter a system command (such as `ls` in Linux or `dir` in Windows). While !cd should work, I've had problems getting it to work in Windows. However, using the magic function %cd seems to work\n",
    "just fine."
   ]
  },
  {
   "cell_type": "markdown",
   "metadata": {},
   "source": [
    "If you didn't get yourself into the directory containing the data file for this tutorial, you can use the !magic to do so. If that doesn't work, try %cd magic."
   ]
  },
  {
   "cell_type": "markdown",
   "metadata": {},
   "source": [
    "Import some modules we'll need.\n",
    "\n",
    "- pandas - Python for data analysis\n",
    "- numpy - the underlying array engine\n",
    "- matplotlib (we'll load this later)- for graphing\n",
    "\n",
    "Pandas is a Python module for data analysis. It focuses on data structures that make it efficient and easy to do \"group by\", time series and other data analytics types\n",
    "of things. It's not a stat package. Wes McKinney developed pandas while working as a quant in the financial services industry and recently published \n",
    "[Python for Data Analysis](http://shop.oreilly.com/product/0636920023784.do) (a must have). His [blog](http://blog.wesmckinney.com/) has tons of great stuff\n",
    "on pandas and the computational aspects of data analytics. It uses numpy as its underlying numerical array engine."
   ]
  },
  {
   "cell_type": "code",
   "execution_count": 1,
   "metadata": {
    "collapsed": false
   },
   "outputs": [],
   "source": [
    "import pandas as pd\n",
    "import numpy as np\n"
   ]
  },
  {
   "cell_type": "code",
   "execution_count": 2,
   "metadata": {
    "collapsed": false
   },
   "outputs": [
    {
     "name": "stdout",
     "output_type": "stream",
     "text": [
      "pandas version  0.18.1\n",
      "numpy version  1.11.1\n"
     ]
    }
   ],
   "source": [
    "# Let's check what version of pandas, numpy and matplotlib we are using\n",
    "print (\"pandas version \", pd.__version__)\n",
    "print (\"numpy version \", np.__version__)\n"
   ]
  },
  {
   "cell_type": "markdown",
   "metadata": {},
   "source": [
    "Read the data and about the basic data structures\n",
    "-------------------------------------------------\n",
    "\n",
    "One of he main data structures in pandas is the `DataFrame`. It's similar to a data frame in R and you can think of it as just a data table with field names and an index. An index is just a set of row labels and by default will just be an integer sequence starting at 0. However, Pandas takes great pains to be smart in the way it uses these indexes. Here's a quote from the documentation:\n",
    "\n",
    "> Here is a basic tenet to keep in mind: data alignment is intrinsic. The link between labels and data will not be broken  unless done so explicitly by you.\n",
    "\n",
    "This tenet will make it easy for us to do things like joining separate data structures on their indexes and automatically aligning data structures even if one of them has \"missing rows\".\n",
    "\n",
    "A really nice tutorial for learning about Pandas data structures, written for those coming with a SQL background is [http://www.gregreda.com/2013/10/26/intro-to-pandas-data-structures/](http://www.gregreda.com/2013/10/26/intro-to-pandas-data-structures/). You should definitely take a look at this tutorial (and ideally create a notebook and work along with it).\n",
    "\n",
    "\n",
    "Ok, here we go. A simple way to create a data frame is to read a csv file into pandas with the `read_csv` function. Like `csv` module in Python or the `read.csv` function in R, there are numerous parameters for doing things like specifying the delimiter, dealing with quoted text, indicating whether or not a header line exists, or passing in a list of desired column names. The [IO Tools section of the documentation](http://pandas-docs.github.io/pandas-docs-travis/io.html) has all the details."
   ]
  },
  {
   "cell_type": "code",
   "execution_count": 3,
   "metadata": {
    "collapsed": false
   },
   "outputs": [],
   "source": [
    "sched_df = pd.read_csv('data/SchedDaysAdv.csv')"
   ]
  },
  {
   "cell_type": "code",
   "execution_count": 4,
   "metadata": {
    "collapsed": false
   },
   "outputs": [
    {
     "data": {
      "text/html": [
       "<div>\n",
       "<table border=\"1\" class=\"dataframe\">\n",
       "  <thead>\n",
       "    <tr style=\"text-align: right;\">\n",
       "      <th></th>\n",
       "      <th>ID</th>\n",
       "      <th>SurgeryDate</th>\n",
       "      <th>Service</th>\n",
       "      <th>ScheduledDaysInAdvance</th>\n",
       "      <th>Urgency</th>\n",
       "      <th>InsuranceStatus</th>\n",
       "    </tr>\n",
       "  </thead>\n",
       "  <tbody>\n",
       "    <tr>\n",
       "      <th>0</th>\n",
       "      <td>0</td>\n",
       "      <td>2012-07-05 00:00:00</td>\n",
       "      <td>Cardiology</td>\n",
       "      <td>9</td>\n",
       "      <td>Routine</td>\n",
       "      <td>Private</td>\n",
       "    </tr>\n",
       "    <tr>\n",
       "      <th>1</th>\n",
       "      <td>1</td>\n",
       "      <td>2009-10-08 00:00:00</td>\n",
       "      <td>Podiatry</td>\n",
       "      <td>34</td>\n",
       "      <td>Routine</td>\n",
       "      <td>Private</td>\n",
       "    </tr>\n",
       "    <tr>\n",
       "      <th>2</th>\n",
       "      <td>2</td>\n",
       "      <td>2009-06-11 00:00:00</td>\n",
       "      <td>Oral-Maxillofacial Surg</td>\n",
       "      <td>22</td>\n",
       "      <td>Routine</td>\n",
       "      <td>Private</td>\n",
       "    </tr>\n",
       "    <tr>\n",
       "      <th>3</th>\n",
       "      <td>3</td>\n",
       "      <td>2011-02-18 00:00:00</td>\n",
       "      <td>General Surgery</td>\n",
       "      <td>1</td>\n",
       "      <td>Urgent</td>\n",
       "      <td>Private</td>\n",
       "    </tr>\n",
       "    <tr>\n",
       "      <th>4</th>\n",
       "      <td>4</td>\n",
       "      <td>2012-08-20 00:00:00</td>\n",
       "      <td>Orthopedic Surgery</td>\n",
       "      <td>14</td>\n",
       "      <td>Routine</td>\n",
       "      <td>Private</td>\n",
       "    </tr>\n",
       "    <tr>\n",
       "      <th>5</th>\n",
       "      <td>5</td>\n",
       "      <td>2010-12-16 00:00:00</td>\n",
       "      <td>General Surgery</td>\n",
       "      <td>38</td>\n",
       "      <td>Routine</td>\n",
       "      <td>Medicare</td>\n",
       "    </tr>\n",
       "    <tr>\n",
       "      <th>6</th>\n",
       "      <td>6</td>\n",
       "      <td>2009-12-21 00:00:00</td>\n",
       "      <td>Orthopedic Surgery</td>\n",
       "      <td>10</td>\n",
       "      <td>Routine</td>\n",
       "      <td>Private</td>\n",
       "    </tr>\n",
       "    <tr>\n",
       "      <th>7</th>\n",
       "      <td>7</td>\n",
       "      <td>2009-03-24 00:00:00</td>\n",
       "      <td>GYN Surgery</td>\n",
       "      <td>34</td>\n",
       "      <td>Routine</td>\n",
       "      <td>Private</td>\n",
       "    </tr>\n",
       "    <tr>\n",
       "      <th>8</th>\n",
       "      <td>8</td>\n",
       "      <td>2009-11-25 00:00:00</td>\n",
       "      <td>Urology/GU Surgery</td>\n",
       "      <td>25</td>\n",
       "      <td>Routine</td>\n",
       "      <td>Private</td>\n",
       "    </tr>\n",
       "    <tr>\n",
       "      <th>9</th>\n",
       "      <td>9</td>\n",
       "      <td>2009-10-01 00:00:00</td>\n",
       "      <td>General Surgery</td>\n",
       "      <td>12</td>\n",
       "      <td>Routine</td>\n",
       "      <td>Medicaid</td>\n",
       "    </tr>\n",
       "    <tr>\n",
       "      <th>10</th>\n",
       "      <td>10</td>\n",
       "      <td>2010-10-11 00:00:00</td>\n",
       "      <td>General Surgery</td>\n",
       "      <td>36</td>\n",
       "      <td>Routine</td>\n",
       "      <td>Private</td>\n",
       "    </tr>\n",
       "    <tr>\n",
       "      <th>11</th>\n",
       "      <td>11</td>\n",
       "      <td>2009-12-17 00:00:00</td>\n",
       "      <td>Podiatry</td>\n",
       "      <td>27</td>\n",
       "      <td>Routine</td>\n",
       "      <td>Medicaid</td>\n",
       "    </tr>\n",
       "    <tr>\n",
       "      <th>12</th>\n",
       "      <td>12</td>\n",
       "      <td>2011-03-25 00:00:00</td>\n",
       "      <td>Otolaryngology</td>\n",
       "      <td>55</td>\n",
       "      <td>Routine</td>\n",
       "      <td>None</td>\n",
       "    </tr>\n",
       "    <tr>\n",
       "      <th>13</th>\n",
       "      <td>13</td>\n",
       "      <td>2012-12-24 00:00:00</td>\n",
       "      <td>Podiatry</td>\n",
       "      <td>29</td>\n",
       "      <td>Routine</td>\n",
       "      <td>None</td>\n",
       "    </tr>\n",
       "    <tr>\n",
       "      <th>14</th>\n",
       "      <td>14</td>\n",
       "      <td>2009-10-07 00:00:00</td>\n",
       "      <td>Oral-Maxillofacial Surg</td>\n",
       "      <td>18</td>\n",
       "      <td>Routine</td>\n",
       "      <td>None</td>\n",
       "    </tr>\n",
       "    <tr>\n",
       "      <th>15</th>\n",
       "      <td>15</td>\n",
       "      <td>2012-10-30 00:00:00</td>\n",
       "      <td>Orthopedic Surgery</td>\n",
       "      <td>28</td>\n",
       "      <td>Routine</td>\n",
       "      <td>None</td>\n",
       "    </tr>\n",
       "    <tr>\n",
       "      <th>16</th>\n",
       "      <td>16</td>\n",
       "      <td>2010-10-12 00:00:00</td>\n",
       "      <td>General Surgery</td>\n",
       "      <td>12</td>\n",
       "      <td>Routine</td>\n",
       "      <td>Medicare</td>\n",
       "    </tr>\n",
       "    <tr>\n",
       "      <th>17</th>\n",
       "      <td>17</td>\n",
       "      <td>2010-09-27 00:00:00</td>\n",
       "      <td>General Surgery</td>\n",
       "      <td>4</td>\n",
       "      <td>Urgent</td>\n",
       "      <td>Private</td>\n",
       "    </tr>\n",
       "    <tr>\n",
       "      <th>18</th>\n",
       "      <td>18</td>\n",
       "      <td>2011-02-23 00:00:00</td>\n",
       "      <td>Gastroenterology</td>\n",
       "      <td>29</td>\n",
       "      <td>Routine</td>\n",
       "      <td>Private</td>\n",
       "    </tr>\n",
       "    <tr>\n",
       "      <th>19</th>\n",
       "      <td>19</td>\n",
       "      <td>2009-04-22 00:00:00</td>\n",
       "      <td>Urology/GU Surgery</td>\n",
       "      <td>12</td>\n",
       "      <td>Routine</td>\n",
       "      <td>None</td>\n",
       "    </tr>\n",
       "    <tr>\n",
       "      <th>20</th>\n",
       "      <td>20</td>\n",
       "      <td>2011-11-28 00:00:00</td>\n",
       "      <td>Orthopedic Surgery</td>\n",
       "      <td>25</td>\n",
       "      <td>Routine</td>\n",
       "      <td>Private</td>\n",
       "    </tr>\n",
       "    <tr>\n",
       "      <th>21</th>\n",
       "      <td>21</td>\n",
       "      <td>2009-06-23 00:00:00</td>\n",
       "      <td>Otolaryngology</td>\n",
       "      <td>34</td>\n",
       "      <td>Routine</td>\n",
       "      <td>None</td>\n",
       "    </tr>\n",
       "    <tr>\n",
       "      <th>22</th>\n",
       "      <td>22</td>\n",
       "      <td>2009-10-26 00:00:00</td>\n",
       "      <td>Oral-Maxillofacial Surg</td>\n",
       "      <td>35</td>\n",
       "      <td>Routine</td>\n",
       "      <td>None</td>\n",
       "    </tr>\n",
       "    <tr>\n",
       "      <th>23</th>\n",
       "      <td>23</td>\n",
       "      <td>2010-10-07 00:00:00</td>\n",
       "      <td>Podiatry</td>\n",
       "      <td>16</td>\n",
       "      <td>Routine</td>\n",
       "      <td>None</td>\n",
       "    </tr>\n",
       "    <tr>\n",
       "      <th>24</th>\n",
       "      <td>24</td>\n",
       "      <td>2012-04-26 00:00:00</td>\n",
       "      <td>Orthopedic Surgery</td>\n",
       "      <td>39</td>\n",
       "      <td>Routine</td>\n",
       "      <td>Private</td>\n",
       "    </tr>\n",
       "    <tr>\n",
       "      <th>25</th>\n",
       "      <td>25</td>\n",
       "      <td>2011-02-14 00:00:00</td>\n",
       "      <td>Pain Clinic</td>\n",
       "      <td>7</td>\n",
       "      <td>Routine</td>\n",
       "      <td>Private</td>\n",
       "    </tr>\n",
       "    <tr>\n",
       "      <th>26</th>\n",
       "      <td>26</td>\n",
       "      <td>2012-09-10 00:00:00</td>\n",
       "      <td>General Surgery</td>\n",
       "      <td>49</td>\n",
       "      <td>Routine</td>\n",
       "      <td>Medicare</td>\n",
       "    </tr>\n",
       "    <tr>\n",
       "      <th>27</th>\n",
       "      <td>27</td>\n",
       "      <td>2009-02-27 00:00:00</td>\n",
       "      <td>General Surgery</td>\n",
       "      <td>5</td>\n",
       "      <td>Routine</td>\n",
       "      <td>None</td>\n",
       "    </tr>\n",
       "    <tr>\n",
       "      <th>28</th>\n",
       "      <td>28</td>\n",
       "      <td>2010-08-20 00:00:00</td>\n",
       "      <td>Otolaryngology</td>\n",
       "      <td>9</td>\n",
       "      <td>Routine</td>\n",
       "      <td>Private</td>\n",
       "    </tr>\n",
       "    <tr>\n",
       "      <th>29</th>\n",
       "      <td>29</td>\n",
       "      <td>2012-12-27 00:00:00</td>\n",
       "      <td>Otolaryngology</td>\n",
       "      <td>23</td>\n",
       "      <td>Routine</td>\n",
       "      <td>None</td>\n",
       "    </tr>\n",
       "    <tr>\n",
       "      <th>...</th>\n",
       "      <td>...</td>\n",
       "      <td>...</td>\n",
       "      <td>...</td>\n",
       "      <td>...</td>\n",
       "      <td>...</td>\n",
       "      <td>...</td>\n",
       "    </tr>\n",
       "    <tr>\n",
       "      <th>19970</th>\n",
       "      <td>19970</td>\n",
       "      <td>2009-11-05 00:00:00</td>\n",
       "      <td>Oral-Maxillofacial Surg</td>\n",
       "      <td>9</td>\n",
       "      <td>Routine</td>\n",
       "      <td>Private</td>\n",
       "    </tr>\n",
       "    <tr>\n",
       "      <th>19971</th>\n",
       "      <td>19971</td>\n",
       "      <td>2011-01-27 00:00:00</td>\n",
       "      <td>GYN Surgery</td>\n",
       "      <td>22</td>\n",
       "      <td>Routine</td>\n",
       "      <td>Private</td>\n",
       "    </tr>\n",
       "    <tr>\n",
       "      <th>19972</th>\n",
       "      <td>19972</td>\n",
       "      <td>2010-07-06 00:00:00</td>\n",
       "      <td>Otolaryngology</td>\n",
       "      <td>7</td>\n",
       "      <td>Routine</td>\n",
       "      <td>Private</td>\n",
       "    </tr>\n",
       "    <tr>\n",
       "      <th>19973</th>\n",
       "      <td>19973</td>\n",
       "      <td>2012-05-24 00:00:00</td>\n",
       "      <td>Obstetrics</td>\n",
       "      <td>1</td>\n",
       "      <td>Routine</td>\n",
       "      <td>None</td>\n",
       "    </tr>\n",
       "    <tr>\n",
       "      <th>19974</th>\n",
       "      <td>19974</td>\n",
       "      <td>2010-08-20 00:00:00</td>\n",
       "      <td>Oral-Maxillofacial Surg</td>\n",
       "      <td>5</td>\n",
       "      <td>Routine</td>\n",
       "      <td>None</td>\n",
       "    </tr>\n",
       "    <tr>\n",
       "      <th>19975</th>\n",
       "      <td>19975</td>\n",
       "      <td>2010-12-02 00:00:00</td>\n",
       "      <td>GYN Surgery</td>\n",
       "      <td>77</td>\n",
       "      <td>Routine</td>\n",
       "      <td>None</td>\n",
       "    </tr>\n",
       "    <tr>\n",
       "      <th>19976</th>\n",
       "      <td>19976</td>\n",
       "      <td>2009-02-22 00:00:00</td>\n",
       "      <td>Oral-Maxillofacial Surg</td>\n",
       "      <td>0</td>\n",
       "      <td>Routine</td>\n",
       "      <td>None</td>\n",
       "    </tr>\n",
       "    <tr>\n",
       "      <th>19977</th>\n",
       "      <td>19977</td>\n",
       "      <td>2012-09-25 00:00:00</td>\n",
       "      <td>General Surgery</td>\n",
       "      <td>16</td>\n",
       "      <td>Routine</td>\n",
       "      <td>Private</td>\n",
       "    </tr>\n",
       "    <tr>\n",
       "      <th>19978</th>\n",
       "      <td>19978</td>\n",
       "      <td>2011-03-03 00:00:00</td>\n",
       "      <td>Ophthalmology</td>\n",
       "      <td>27</td>\n",
       "      <td>Routine</td>\n",
       "      <td>Medicare</td>\n",
       "    </tr>\n",
       "    <tr>\n",
       "      <th>19979</th>\n",
       "      <td>19979</td>\n",
       "      <td>2011-04-25 00:00:00</td>\n",
       "      <td>General Surgery</td>\n",
       "      <td>32</td>\n",
       "      <td>Routine</td>\n",
       "      <td>Private</td>\n",
       "    </tr>\n",
       "    <tr>\n",
       "      <th>19980</th>\n",
       "      <td>19980</td>\n",
       "      <td>2011-07-26 00:00:00</td>\n",
       "      <td>General Surgery</td>\n",
       "      <td>28</td>\n",
       "      <td>Routine</td>\n",
       "      <td>None</td>\n",
       "    </tr>\n",
       "    <tr>\n",
       "      <th>19981</th>\n",
       "      <td>19981</td>\n",
       "      <td>2009-03-23 00:00:00</td>\n",
       "      <td>Otolaryngology</td>\n",
       "      <td>1</td>\n",
       "      <td>Routine</td>\n",
       "      <td>None</td>\n",
       "    </tr>\n",
       "    <tr>\n",
       "      <th>19982</th>\n",
       "      <td>19982</td>\n",
       "      <td>2012-08-31 00:00:00</td>\n",
       "      <td>Obstetrics</td>\n",
       "      <td>3</td>\n",
       "      <td>Urgent</td>\n",
       "      <td>Private</td>\n",
       "    </tr>\n",
       "    <tr>\n",
       "      <th>19983</th>\n",
       "      <td>19983</td>\n",
       "      <td>2009-02-02 00:00:00</td>\n",
       "      <td>General Surgery</td>\n",
       "      <td>15</td>\n",
       "      <td>Routine</td>\n",
       "      <td>Medicaid</td>\n",
       "    </tr>\n",
       "    <tr>\n",
       "      <th>19984</th>\n",
       "      <td>19984</td>\n",
       "      <td>2009-04-06 00:00:00</td>\n",
       "      <td>Orthopedic Surgery</td>\n",
       "      <td>9</td>\n",
       "      <td>Routine</td>\n",
       "      <td>Private</td>\n",
       "    </tr>\n",
       "    <tr>\n",
       "      <th>19985</th>\n",
       "      <td>19985</td>\n",
       "      <td>2012-03-07 00:00:00</td>\n",
       "      <td>Gastroenterology</td>\n",
       "      <td>24</td>\n",
       "      <td>Routine</td>\n",
       "      <td>Private</td>\n",
       "    </tr>\n",
       "    <tr>\n",
       "      <th>19986</th>\n",
       "      <td>19986</td>\n",
       "      <td>2011-10-26 00:00:00</td>\n",
       "      <td>Gastroenterology</td>\n",
       "      <td>14</td>\n",
       "      <td>Routine</td>\n",
       "      <td>Private</td>\n",
       "    </tr>\n",
       "    <tr>\n",
       "      <th>19987</th>\n",
       "      <td>19987</td>\n",
       "      <td>2011-12-05 00:00:00</td>\n",
       "      <td>Orthopedic Surgery</td>\n",
       "      <td>7</td>\n",
       "      <td>Routine</td>\n",
       "      <td>Private</td>\n",
       "    </tr>\n",
       "    <tr>\n",
       "      <th>19988</th>\n",
       "      <td>19988</td>\n",
       "      <td>2012-03-29 00:00:00</td>\n",
       "      <td>Orthopedic Surgery</td>\n",
       "      <td>2</td>\n",
       "      <td>Routine</td>\n",
       "      <td>Private</td>\n",
       "    </tr>\n",
       "    <tr>\n",
       "      <th>19989</th>\n",
       "      <td>19989</td>\n",
       "      <td>2011-09-15 00:00:00</td>\n",
       "      <td>Oral-Maxillofacial Surg</td>\n",
       "      <td>21</td>\n",
       "      <td>Routine</td>\n",
       "      <td>Private</td>\n",
       "    </tr>\n",
       "    <tr>\n",
       "      <th>19990</th>\n",
       "      <td>19990</td>\n",
       "      <td>2010-05-04 00:00:00</td>\n",
       "      <td>Otolaryngology</td>\n",
       "      <td>4</td>\n",
       "      <td>Routine</td>\n",
       "      <td>None</td>\n",
       "    </tr>\n",
       "    <tr>\n",
       "      <th>19991</th>\n",
       "      <td>19991</td>\n",
       "      <td>2009-06-30 00:00:00</td>\n",
       "      <td>GYN Surgery</td>\n",
       "      <td>1</td>\n",
       "      <td>Routine</td>\n",
       "      <td>None</td>\n",
       "    </tr>\n",
       "    <tr>\n",
       "      <th>19992</th>\n",
       "      <td>19992</td>\n",
       "      <td>2009-02-11 00:00:00</td>\n",
       "      <td>General Surgery</td>\n",
       "      <td>20</td>\n",
       "      <td>Routine</td>\n",
       "      <td>Medicaid</td>\n",
       "    </tr>\n",
       "    <tr>\n",
       "      <th>19993</th>\n",
       "      <td>19993</td>\n",
       "      <td>2011-01-12 00:00:00</td>\n",
       "      <td>Gastroenterology</td>\n",
       "      <td>52</td>\n",
       "      <td>Routine</td>\n",
       "      <td>Medicaid</td>\n",
       "    </tr>\n",
       "    <tr>\n",
       "      <th>19994</th>\n",
       "      <td>19994</td>\n",
       "      <td>2010-10-15 00:00:00</td>\n",
       "      <td>Oral-Maxillofacial Surg</td>\n",
       "      <td>11</td>\n",
       "      <td>Routine</td>\n",
       "      <td>Private</td>\n",
       "    </tr>\n",
       "    <tr>\n",
       "      <th>19995</th>\n",
       "      <td>19995</td>\n",
       "      <td>2011-04-26 00:00:00</td>\n",
       "      <td>GYN Surgery</td>\n",
       "      <td>36</td>\n",
       "      <td>Routine</td>\n",
       "      <td>Private</td>\n",
       "    </tr>\n",
       "    <tr>\n",
       "      <th>19996</th>\n",
       "      <td>19996</td>\n",
       "      <td>2009-07-17 00:00:00</td>\n",
       "      <td>Oral-Maxillofacial Surg</td>\n",
       "      <td>22</td>\n",
       "      <td>Routine</td>\n",
       "      <td>Private</td>\n",
       "    </tr>\n",
       "    <tr>\n",
       "      <th>19997</th>\n",
       "      <td>19997</td>\n",
       "      <td>2010-11-02 00:00:00</td>\n",
       "      <td>GYN Surgery</td>\n",
       "      <td>50</td>\n",
       "      <td>Routine</td>\n",
       "      <td>None</td>\n",
       "    </tr>\n",
       "    <tr>\n",
       "      <th>19998</th>\n",
       "      <td>19998</td>\n",
       "      <td>2012-12-20 00:00:00</td>\n",
       "      <td>General Surgery</td>\n",
       "      <td>21</td>\n",
       "      <td>Routine</td>\n",
       "      <td>Medicare</td>\n",
       "    </tr>\n",
       "    <tr>\n",
       "      <th>19999</th>\n",
       "      <td>19999</td>\n",
       "      <td>2012-07-26 00:00:00</td>\n",
       "      <td>Obstetrics</td>\n",
       "      <td>1</td>\n",
       "      <td>Emergency</td>\n",
       "      <td>Private</td>\n",
       "    </tr>\n",
       "  </tbody>\n",
       "</table>\n",
       "<p>20000 rows × 6 columns</p>\n",
       "</div>"
      ],
      "text/plain": [
       "          ID          SurgeryDate                  Service  \\\n",
       "0          0  2012-07-05 00:00:00               Cardiology   \n",
       "1          1  2009-10-08 00:00:00                 Podiatry   \n",
       "2          2  2009-06-11 00:00:00  Oral-Maxillofacial Surg   \n",
       "3          3  2011-02-18 00:00:00          General Surgery   \n",
       "4          4  2012-08-20 00:00:00       Orthopedic Surgery   \n",
       "5          5  2010-12-16 00:00:00          General Surgery   \n",
       "6          6  2009-12-21 00:00:00       Orthopedic Surgery   \n",
       "7          7  2009-03-24 00:00:00              GYN Surgery   \n",
       "8          8  2009-11-25 00:00:00       Urology/GU Surgery   \n",
       "9          9  2009-10-01 00:00:00          General Surgery   \n",
       "10        10  2010-10-11 00:00:00          General Surgery   \n",
       "11        11  2009-12-17 00:00:00                 Podiatry   \n",
       "12        12  2011-03-25 00:00:00           Otolaryngology   \n",
       "13        13  2012-12-24 00:00:00                 Podiatry   \n",
       "14        14  2009-10-07 00:00:00  Oral-Maxillofacial Surg   \n",
       "15        15  2012-10-30 00:00:00       Orthopedic Surgery   \n",
       "16        16  2010-10-12 00:00:00          General Surgery   \n",
       "17        17  2010-09-27 00:00:00          General Surgery   \n",
       "18        18  2011-02-23 00:00:00         Gastroenterology   \n",
       "19        19  2009-04-22 00:00:00       Urology/GU Surgery   \n",
       "20        20  2011-11-28 00:00:00       Orthopedic Surgery   \n",
       "21        21  2009-06-23 00:00:00           Otolaryngology   \n",
       "22        22  2009-10-26 00:00:00  Oral-Maxillofacial Surg   \n",
       "23        23  2010-10-07 00:00:00                 Podiatry   \n",
       "24        24  2012-04-26 00:00:00       Orthopedic Surgery   \n",
       "25        25  2011-02-14 00:00:00              Pain Clinic   \n",
       "26        26  2012-09-10 00:00:00          General Surgery   \n",
       "27        27  2009-02-27 00:00:00          General Surgery   \n",
       "28        28  2010-08-20 00:00:00           Otolaryngology   \n",
       "29        29  2012-12-27 00:00:00           Otolaryngology   \n",
       "...      ...                  ...                      ...   \n",
       "19970  19970  2009-11-05 00:00:00  Oral-Maxillofacial Surg   \n",
       "19971  19971  2011-01-27 00:00:00              GYN Surgery   \n",
       "19972  19972  2010-07-06 00:00:00           Otolaryngology   \n",
       "19973  19973  2012-05-24 00:00:00               Obstetrics   \n",
       "19974  19974  2010-08-20 00:00:00  Oral-Maxillofacial Surg   \n",
       "19975  19975  2010-12-02 00:00:00              GYN Surgery   \n",
       "19976  19976  2009-02-22 00:00:00  Oral-Maxillofacial Surg   \n",
       "19977  19977  2012-09-25 00:00:00          General Surgery   \n",
       "19978  19978  2011-03-03 00:00:00            Ophthalmology   \n",
       "19979  19979  2011-04-25 00:00:00          General Surgery   \n",
       "19980  19980  2011-07-26 00:00:00          General Surgery   \n",
       "19981  19981  2009-03-23 00:00:00           Otolaryngology   \n",
       "19982  19982  2012-08-31 00:00:00               Obstetrics   \n",
       "19983  19983  2009-02-02 00:00:00          General Surgery   \n",
       "19984  19984  2009-04-06 00:00:00       Orthopedic Surgery   \n",
       "19985  19985  2012-03-07 00:00:00         Gastroenterology   \n",
       "19986  19986  2011-10-26 00:00:00         Gastroenterology   \n",
       "19987  19987  2011-12-05 00:00:00       Orthopedic Surgery   \n",
       "19988  19988  2012-03-29 00:00:00       Orthopedic Surgery   \n",
       "19989  19989  2011-09-15 00:00:00  Oral-Maxillofacial Surg   \n",
       "19990  19990  2010-05-04 00:00:00           Otolaryngology   \n",
       "19991  19991  2009-06-30 00:00:00              GYN Surgery   \n",
       "19992  19992  2009-02-11 00:00:00          General Surgery   \n",
       "19993  19993  2011-01-12 00:00:00         Gastroenterology   \n",
       "19994  19994  2010-10-15 00:00:00  Oral-Maxillofacial Surg   \n",
       "19995  19995  2011-04-26 00:00:00              GYN Surgery   \n",
       "19996  19996  2009-07-17 00:00:00  Oral-Maxillofacial Surg   \n",
       "19997  19997  2010-11-02 00:00:00              GYN Surgery   \n",
       "19998  19998  2012-12-20 00:00:00          General Surgery   \n",
       "19999  19999  2012-07-26 00:00:00               Obstetrics   \n",
       "\n",
       "       ScheduledDaysInAdvance    Urgency InsuranceStatus  \n",
       "0                           9    Routine         Private  \n",
       "1                          34    Routine         Private  \n",
       "2                          22    Routine         Private  \n",
       "3                           1     Urgent         Private  \n",
       "4                          14    Routine         Private  \n",
       "5                          38    Routine        Medicare  \n",
       "6                          10    Routine         Private  \n",
       "7                          34    Routine         Private  \n",
       "8                          25    Routine         Private  \n",
       "9                          12    Routine        Medicaid  \n",
       "10                         36    Routine         Private  \n",
       "11                         27    Routine        Medicaid  \n",
       "12                         55    Routine            None  \n",
       "13                         29    Routine            None  \n",
       "14                         18    Routine            None  \n",
       "15                         28    Routine            None  \n",
       "16                         12    Routine        Medicare  \n",
       "17                          4     Urgent         Private  \n",
       "18                         29    Routine         Private  \n",
       "19                         12    Routine            None  \n",
       "20                         25    Routine         Private  \n",
       "21                         34    Routine            None  \n",
       "22                         35    Routine            None  \n",
       "23                         16    Routine            None  \n",
       "24                         39    Routine         Private  \n",
       "25                          7    Routine         Private  \n",
       "26                         49    Routine        Medicare  \n",
       "27                          5    Routine            None  \n",
       "28                          9    Routine         Private  \n",
       "29                         23    Routine            None  \n",
       "...                       ...        ...             ...  \n",
       "19970                       9    Routine         Private  \n",
       "19971                      22    Routine         Private  \n",
       "19972                       7    Routine         Private  \n",
       "19973                       1    Routine            None  \n",
       "19974                       5    Routine            None  \n",
       "19975                      77    Routine            None  \n",
       "19976                       0    Routine            None  \n",
       "19977                      16    Routine         Private  \n",
       "19978                      27    Routine        Medicare  \n",
       "19979                      32    Routine         Private  \n",
       "19980                      28    Routine            None  \n",
       "19981                       1    Routine            None  \n",
       "19982                       3     Urgent         Private  \n",
       "19983                      15    Routine        Medicaid  \n",
       "19984                       9    Routine         Private  \n",
       "19985                      24    Routine         Private  \n",
       "19986                      14    Routine         Private  \n",
       "19987                       7    Routine         Private  \n",
       "19988                       2    Routine         Private  \n",
       "19989                      21    Routine         Private  \n",
       "19990                       4    Routine            None  \n",
       "19991                       1    Routine            None  \n",
       "19992                      20    Routine        Medicaid  \n",
       "19993                      52    Routine        Medicaid  \n",
       "19994                      11    Routine         Private  \n",
       "19995                      36    Routine         Private  \n",
       "19996                      22    Routine         Private  \n",
       "19997                      50    Routine            None  \n",
       "19998                      21    Routine        Medicare  \n",
       "19999                       1  Emergency         Private  \n",
       "\n",
       "[20000 rows x 6 columns]"
      ]
     },
     "execution_count": 4,
     "metadata": {},
     "output_type": "execute_result"
    }
   ],
   "source": [
    "# Typing the name of the dataframe will either get you some rows or info about the structure.\n",
    "sched_df"
   ]
  },
  {
   "cell_type": "markdown",
   "metadata": {},
   "source": [
    "We can check out the structure of this dataframe with the `info()` function. Do a `help(info)` to learn more\n",
    "about this handy function."
   ]
  },
  {
   "cell_type": "code",
   "execution_count": 5,
   "metadata": {
    "collapsed": false
   },
   "outputs": [
    {
     "name": "stdout",
     "output_type": "stream",
     "text": [
      "<class 'pandas.core.frame.DataFrame'>\n",
      "RangeIndex: 20000 entries, 0 to 19999\n",
      "Data columns (total 6 columns):\n",
      "ID                        20000 non-null int64\n",
      "SurgeryDate               20000 non-null object\n",
      "Service                   20000 non-null object\n",
      "ScheduledDaysInAdvance    20000 non-null int64\n",
      "Urgency                   20000 non-null object\n",
      "InsuranceStatus           20000 non-null object\n",
      "dtypes: int64(2), object(4)\n",
      "memory usage: 937.6+ KB\n"
     ]
    }
   ],
   "source": [
    "sched_df.info()"
   ]
  },
  {
   "cell_type": "markdown",
   "metadata": {},
   "source": [
    "Notice that a default index was created using an integer sequence from 0 to 19999. The index itself is an instance of a pandas `Int64Index` object. \n",
    "\n",
    "Just like an R `data.frame` is really just a collection of R `vector` objects (each having their own data type), a pandas `DataFrame` is a collection of `Series` objects. Each `Series` can have its own data type and a `Series` also has an index. So, a `DataFrame` is really a collection of `Series` objects with a shared index."
   ]
  },
  {
   "cell_type": "markdown",
   "metadata": {},
   "source": [
    "Also, it looks like the datetime field has been interpreted by pandas as an object.  There's pleny of trickiness and numerous details in working with dates and times in pandas. For now, let's just take a look at the dataframe and learn some basic techniques for referencing columns and rows. It's very similar to what we will do with R `data.frame` objects."
   ]
  },
  {
   "cell_type": "code",
   "execution_count": null,
   "metadata": {
    "collapsed": false
   },
   "outputs": [],
   "source": [
    "# Check out the first few rows of sched_df\n",
    "sched_df.head() "
   ]
  },
  {
   "cell_type": "code",
   "execution_count": null,
   "metadata": {
    "collapsed": false
   },
   "outputs": [],
   "source": [
    "# Check out the last few rows.\n",
    "sched_df.tail() "
   ]
  },
  {
   "cell_type": "code",
   "execution_count": null,
   "metadata": {
    "collapsed": false
   },
   "outputs": [],
   "source": [
    "# Number of rows and columns?\n",
    "sched_df.shape"
   ]
  },
  {
   "cell_type": "markdown",
   "metadata": {},
   "source": [
    "Selecting columns and rows\n",
    "--------------------------\n",
    "\n",
    "There are multiple ways of selecting subsets of a pandas `DataFrame`. \n",
    "\n",
    "\n",
    "### Rows\n",
    "\n",
    "We saw about that `head` and `tail` return 5 rows from the beginning and end of the data frame. To get a specific number:"
   ]
  },
  {
   "cell_type": "code",
   "execution_count": 6,
   "metadata": {
    "collapsed": false
   },
   "outputs": [
    {
     "data": {
      "text/html": [
       "<div>\n",
       "<table border=\"1\" class=\"dataframe\">\n",
       "  <thead>\n",
       "    <tr style=\"text-align: right;\">\n",
       "      <th></th>\n",
       "      <th>ID</th>\n",
       "      <th>SurgeryDate</th>\n",
       "      <th>Service</th>\n",
       "      <th>ScheduledDaysInAdvance</th>\n",
       "      <th>Urgency</th>\n",
       "      <th>InsuranceStatus</th>\n",
       "    </tr>\n",
       "  </thead>\n",
       "  <tbody>\n",
       "    <tr>\n",
       "      <th>0</th>\n",
       "      <td>0</td>\n",
       "      <td>2012-07-05 00:00:00</td>\n",
       "      <td>Cardiology</td>\n",
       "      <td>9</td>\n",
       "      <td>Routine</td>\n",
       "      <td>Private</td>\n",
       "    </tr>\n",
       "    <tr>\n",
       "      <th>1</th>\n",
       "      <td>1</td>\n",
       "      <td>2009-10-08 00:00:00</td>\n",
       "      <td>Podiatry</td>\n",
       "      <td>34</td>\n",
       "      <td>Routine</td>\n",
       "      <td>Private</td>\n",
       "    </tr>\n",
       "    <tr>\n",
       "      <th>2</th>\n",
       "      <td>2</td>\n",
       "      <td>2009-06-11 00:00:00</td>\n",
       "      <td>Oral-Maxillofacial Surg</td>\n",
       "      <td>22</td>\n",
       "      <td>Routine</td>\n",
       "      <td>Private</td>\n",
       "    </tr>\n",
       "    <tr>\n",
       "      <th>3</th>\n",
       "      <td>3</td>\n",
       "      <td>2011-02-18 00:00:00</td>\n",
       "      <td>General Surgery</td>\n",
       "      <td>1</td>\n",
       "      <td>Urgent</td>\n",
       "      <td>Private</td>\n",
       "    </tr>\n",
       "    <tr>\n",
       "      <th>4</th>\n",
       "      <td>4</td>\n",
       "      <td>2012-08-20 00:00:00</td>\n",
       "      <td>Orthopedic Surgery</td>\n",
       "      <td>14</td>\n",
       "      <td>Routine</td>\n",
       "      <td>Private</td>\n",
       "    </tr>\n",
       "    <tr>\n",
       "      <th>5</th>\n",
       "      <td>5</td>\n",
       "      <td>2010-12-16 00:00:00</td>\n",
       "      <td>General Surgery</td>\n",
       "      <td>38</td>\n",
       "      <td>Routine</td>\n",
       "      <td>Medicare</td>\n",
       "    </tr>\n",
       "    <tr>\n",
       "      <th>6</th>\n",
       "      <td>6</td>\n",
       "      <td>2009-12-21 00:00:00</td>\n",
       "      <td>Orthopedic Surgery</td>\n",
       "      <td>10</td>\n",
       "      <td>Routine</td>\n",
       "      <td>Private</td>\n",
       "    </tr>\n",
       "    <tr>\n",
       "      <th>7</th>\n",
       "      <td>7</td>\n",
       "      <td>2009-03-24 00:00:00</td>\n",
       "      <td>GYN Surgery</td>\n",
       "      <td>34</td>\n",
       "      <td>Routine</td>\n",
       "      <td>Private</td>\n",
       "    </tr>\n",
       "    <tr>\n",
       "      <th>8</th>\n",
       "      <td>8</td>\n",
       "      <td>2009-11-25 00:00:00</td>\n",
       "      <td>Urology/GU Surgery</td>\n",
       "      <td>25</td>\n",
       "      <td>Routine</td>\n",
       "      <td>Private</td>\n",
       "    </tr>\n",
       "    <tr>\n",
       "      <th>9</th>\n",
       "      <td>9</td>\n",
       "      <td>2009-10-01 00:00:00</td>\n",
       "      <td>General Surgery</td>\n",
       "      <td>12</td>\n",
       "      <td>Routine</td>\n",
       "      <td>Medicaid</td>\n",
       "    </tr>\n",
       "  </tbody>\n",
       "</table>\n",
       "</div>"
      ],
      "text/plain": [
       "   ID          SurgeryDate                  Service  ScheduledDaysInAdvance  \\\n",
       "0   0  2012-07-05 00:00:00               Cardiology                       9   \n",
       "1   1  2009-10-08 00:00:00                 Podiatry                      34   \n",
       "2   2  2009-06-11 00:00:00  Oral-Maxillofacial Surg                      22   \n",
       "3   3  2011-02-18 00:00:00          General Surgery                       1   \n",
       "4   4  2012-08-20 00:00:00       Orthopedic Surgery                      14   \n",
       "5   5  2010-12-16 00:00:00          General Surgery                      38   \n",
       "6   6  2009-12-21 00:00:00       Orthopedic Surgery                      10   \n",
       "7   7  2009-03-24 00:00:00              GYN Surgery                      34   \n",
       "8   8  2009-11-25 00:00:00       Urology/GU Surgery                      25   \n",
       "9   9  2009-10-01 00:00:00          General Surgery                      12   \n",
       "\n",
       "   Urgency InsuranceStatus  \n",
       "0  Routine         Private  \n",
       "1  Routine         Private  \n",
       "2  Routine         Private  \n",
       "3   Urgent         Private  \n",
       "4  Routine         Private  \n",
       "5  Routine        Medicare  \n",
       "6  Routine         Private  \n",
       "7  Routine         Private  \n",
       "8  Routine         Private  \n",
       "9  Routine        Medicaid  "
      ]
     },
     "execution_count": 6,
     "metadata": {},
     "output_type": "execute_result"
    }
   ],
   "source": [
    "# First 10\n",
    "sched_df.head(10)"
   ]
  },
  {
   "cell_type": "code",
   "execution_count": 7,
   "metadata": {
    "collapsed": false
   },
   "outputs": [
    {
     "data": {
      "text/html": [
       "<div>\n",
       "<table border=\"1\" class=\"dataframe\">\n",
       "  <thead>\n",
       "    <tr style=\"text-align: right;\">\n",
       "      <th></th>\n",
       "      <th>ID</th>\n",
       "      <th>SurgeryDate</th>\n",
       "      <th>Service</th>\n",
       "      <th>ScheduledDaysInAdvance</th>\n",
       "      <th>Urgency</th>\n",
       "      <th>InsuranceStatus</th>\n",
       "    </tr>\n",
       "  </thead>\n",
       "  <tbody>\n",
       "    <tr>\n",
       "      <th>19993</th>\n",
       "      <td>19993</td>\n",
       "      <td>2011-01-12 00:00:00</td>\n",
       "      <td>Gastroenterology</td>\n",
       "      <td>52</td>\n",
       "      <td>Routine</td>\n",
       "      <td>Medicaid</td>\n",
       "    </tr>\n",
       "    <tr>\n",
       "      <th>19994</th>\n",
       "      <td>19994</td>\n",
       "      <td>2010-10-15 00:00:00</td>\n",
       "      <td>Oral-Maxillofacial Surg</td>\n",
       "      <td>11</td>\n",
       "      <td>Routine</td>\n",
       "      <td>Private</td>\n",
       "    </tr>\n",
       "    <tr>\n",
       "      <th>19995</th>\n",
       "      <td>19995</td>\n",
       "      <td>2011-04-26 00:00:00</td>\n",
       "      <td>GYN Surgery</td>\n",
       "      <td>36</td>\n",
       "      <td>Routine</td>\n",
       "      <td>Private</td>\n",
       "    </tr>\n",
       "    <tr>\n",
       "      <th>19996</th>\n",
       "      <td>19996</td>\n",
       "      <td>2009-07-17 00:00:00</td>\n",
       "      <td>Oral-Maxillofacial Surg</td>\n",
       "      <td>22</td>\n",
       "      <td>Routine</td>\n",
       "      <td>Private</td>\n",
       "    </tr>\n",
       "    <tr>\n",
       "      <th>19997</th>\n",
       "      <td>19997</td>\n",
       "      <td>2010-11-02 00:00:00</td>\n",
       "      <td>GYN Surgery</td>\n",
       "      <td>50</td>\n",
       "      <td>Routine</td>\n",
       "      <td>None</td>\n",
       "    </tr>\n",
       "    <tr>\n",
       "      <th>19998</th>\n",
       "      <td>19998</td>\n",
       "      <td>2012-12-20 00:00:00</td>\n",
       "      <td>General Surgery</td>\n",
       "      <td>21</td>\n",
       "      <td>Routine</td>\n",
       "      <td>Medicare</td>\n",
       "    </tr>\n",
       "    <tr>\n",
       "      <th>19999</th>\n",
       "      <td>19999</td>\n",
       "      <td>2012-07-26 00:00:00</td>\n",
       "      <td>Obstetrics</td>\n",
       "      <td>1</td>\n",
       "      <td>Emergency</td>\n",
       "      <td>Private</td>\n",
       "    </tr>\n",
       "  </tbody>\n",
       "</table>\n",
       "</div>"
      ],
      "text/plain": [
       "          ID          SurgeryDate                  Service  \\\n",
       "19993  19993  2011-01-12 00:00:00         Gastroenterology   \n",
       "19994  19994  2010-10-15 00:00:00  Oral-Maxillofacial Surg   \n",
       "19995  19995  2011-04-26 00:00:00              GYN Surgery   \n",
       "19996  19996  2009-07-17 00:00:00  Oral-Maxillofacial Surg   \n",
       "19997  19997  2010-11-02 00:00:00              GYN Surgery   \n",
       "19998  19998  2012-12-20 00:00:00          General Surgery   \n",
       "19999  19999  2012-07-26 00:00:00               Obstetrics   \n",
       "\n",
       "       ScheduledDaysInAdvance    Urgency InsuranceStatus  \n",
       "19993                      52    Routine        Medicaid  \n",
       "19994                      11    Routine         Private  \n",
       "19995                      36    Routine         Private  \n",
       "19996                      22    Routine         Private  \n",
       "19997                      50    Routine            None  \n",
       "19998                      21    Routine        Medicare  \n",
       "19999                       1  Emergency         Private  "
      ]
     },
     "execution_count": 7,
     "metadata": {},
     "output_type": "execute_result"
    }
   ],
   "source": [
    "# Last 7\n",
    "sched_df.tail(7)"
   ]
  },
  {
   "cell_type": "markdown",
   "metadata": {},
   "source": [
    "You can also use Python \"index slicing\" just as we did with Numpy arrays. Remember your slicing rules... Think about what the next command will do before trying it. Also notice the output style difference when using `print`."
   ]
  },
  {
   "cell_type": "code",
   "execution_count": 8,
   "metadata": {
    "collapsed": false
   },
   "outputs": [
    {
     "name": "stdout",
     "output_type": "stream",
     "text": [
      "   ID          SurgeryDate                  Service  ScheduledDaysInAdvance  \\\n",
      "1   1  2009-10-08 00:00:00                 Podiatry                      34   \n",
      "2   2  2009-06-11 00:00:00  Oral-Maxillofacial Surg                      22   \n",
      "3   3  2011-02-18 00:00:00          General Surgery                       1   \n",
      "\n",
      "   Urgency InsuranceStatus  \n",
      "1  Routine         Private  \n",
      "2  Routine         Private  \n",
      "3   Urgent         Private  \n"
     ]
    }
   ],
   "source": [
    "print (sched_df[1:4])"
   ]
  },
  {
   "cell_type": "markdown",
   "metadata": {},
   "source": [
    "### Columns\n",
    "\n",
    "You can select columns by name. As you might expect, if you select a single column you get a `Series` object and if you select more than one column you are getting a `DataFrame` object. To select multiple columns, pass in a list of column names."
   ]
  },
  {
   "cell_type": "code",
   "execution_count": null,
   "metadata": {
    "collapsed": false
   },
   "outputs": [],
   "source": [
    "sched_df['ScheduledDaysInAdvance'].head()"
   ]
  },
  {
   "cell_type": "code",
   "execution_count": null,
   "metadata": {
    "collapsed": false
   },
   "outputs": [],
   "source": [
    "# What is the data type of a single column from a data frame?\n",
    "type(sched_df['ScheduledDaysInAdvance'])"
   ]
  },
  {
   "cell_type": "code",
   "execution_count": null,
   "metadata": {
    "collapsed": false
   },
   "outputs": [],
   "source": [
    "# See data type for a data frame\n"
   ]
  },
  {
   "cell_type": "code",
   "execution_count": null,
   "metadata": {
    "collapsed": false
   },
   "outputs": [],
   "source": [
    "# You can also reference column names like attributes, and yes, tab completion works.\n",
    "sched_df.ScheduledDaysInAdvance.head()"
   ]
  },
  {
   "cell_type": "code",
   "execution_count": null,
   "metadata": {
    "collapsed": false
   },
   "outputs": [],
   "source": [
    "# To select two columns, use a list of column names.\n",
    "sched_df[['PatientID','ScheduledDaysInAdvance']].head()"
   ]
  },
  {
   "cell_type": "code",
   "execution_count": null,
   "metadata": {
    "collapsed": false
   },
   "outputs": [],
   "source": [
    "# Combining row and column selection using the above methods looks like this. Notice\n",
    "# that the syntax is df[rows][cols].\n",
    "sched_df[0:4][['PatientID','ScheduledDaysInAdvance']]"
   ]
  },
  {
   "cell_type": "markdown",
   "metadata": {},
   "source": [
    "Note, this is different from the way we referenced elements in a 2D numpy array - x[rows to select,cols to select]. A `DataFrame` is not a 2D array (which it can't be of course - why?). It's really more like a dictionary of `Series` objects with the key being the column name."
   ]
  },
  {
   "cell_type": "markdown",
   "metadata": {},
   "source": [
    "### Boolean indexing\n",
    "\n",
    "A very powereful technique is to select rows using logical vectors. We will use this quite a bit in both Python and R. If you've had MIS 546 with me, you'll see that this is a little like using Boolean arrays inside of Excel array formulas. For example to select all the rows for which Service is 'Podiatry':"
   ]
  },
  {
   "cell_type": "code",
   "execution_count": null,
   "metadata": {
    "collapsed": false
   },
   "outputs": [],
   "source": [
    "sched_df[sched_df.Service == 'Cardiology']"
   ]
  },
  {
   "cell_type": "markdown",
   "metadata": {},
   "source": [
    "You can combine conditions using the `&` (and) and `|` (or) operators. **IMPORTANT** Use parentheses around the logical clauses!"
   ]
  },
  {
   "cell_type": "code",
   "execution_count": null,
   "metadata": {
    "collapsed": false
   },
   "outputs": [],
   "source": [
    "sched_df[sched_df.Service == 'Podiatry' & sched_df.Urgency == 'Urgent']"
   ]
  },
  {
   "cell_type": "code",
   "execution_count": null,
   "metadata": {
    "collapsed": false
   },
   "outputs": [],
   "source": [
    "sched_df[(sched_df.Service == 'Podiatry') & (sched_df.Urgency == 'Urgent')]"
   ]
  },
  {
   "cell_type": "code",
   "execution_count": null,
   "metadata": {
    "collapsed": false
   },
   "outputs": [],
   "source": [
    "# You try it\n",
    "\n",
    "# Select the PatientID, Service, InsuranceStatus and Urgency columns for those rows in \n",
    "# which ScheduledDaysInAdvance is greater than 60."
   ]
  },
  {
   "cell_type": "markdown",
   "metadata": {},
   "source": [
    "This is just the tip of the iceberg in terms of indexing and selecting subsets of `DataFrame` and `Series` objects. Pandas provides functions such as `loc` for label based selection, `iloc` for positional selection and `ix` for mixed label and positional selection. This makes very sophisticated selection possible, especially in the case of hierarchical indexes. See the [Indexing and Selecting chapter of the official documentation](http://pandas.pydata.org/pandas-docs/stable/indexing.html). We'll return to this topic as needed. It is one of the strengths of Pandas."
   ]
  },
  {
   "cell_type": "markdown",
   "metadata": {},
   "source": [
    "## Analysis ##\n",
    "\n",
    "We will start with creating a new computed column, do some basic summary stats, move on to more complex calculations and finish up with some basic graphing.\n",
    "\n",
    "\n",
    " \n"
   ]
  },
  {
   "cell_type": "code",
   "execution_count": null,
   "metadata": {
    "collapsed": false
   },
   "outputs": [],
   "source": [
    "'aaa'.upper()"
   ]
  },
  {
   "cell_type": "markdown",
   "metadata": {},
   "source": [
    "### Create a new computed column\n",
    "This can actually be a little bit tricky. For example, let's assume we wanted to create a new column called `Service_short` that contained just the first three letters, all in caps, of the `Service` field. You would think that something like the following should work:\n",
    "\n",
    "```\n",
    "sched_df['Service_short'] = sched_df['Service'][0:3].upper()\n",
    "```\n",
    "\n",
    "It doesn't work. See below. We want our transformation to work \"element-wise\" but instead it's trying to work with the entire series object. "
   ]
  },
  {
   "cell_type": "code",
   "execution_count": null,
   "metadata": {
    "collapsed": false
   },
   "outputs": [],
   "source": [
    "# This won't work\n",
    "sched_df['Service_short'] = sched_df['Service'][0:3].upper()"
   ]
  },
  {
   "cell_type": "markdown",
   "metadata": {},
   "source": [
    "So, the basic pattern is to use a combination of the `map` function and what is known as a *lambda function* (sometimes called an *anonymous function*). A *lambda function* is an inline function that has no name. Sounds useless but ends up being pretty useful. Here's the basic pattern applied to this example:"
   ]
  },
  {
   "cell_type": "code",
   "execution_count": null,
   "metadata": {
    "collapsed": false,
    "scrolled": true
   },
   "outputs": [],
   "source": [
    "# Approach 1\n",
    "sched_df['Service_short_1'] = sched_df['Service'].map(lambda x: x[0:3].upper())\n",
    "print(sched_df['Service_short_1'].head())"
   ]
  },
  {
   "cell_type": "markdown",
   "metadata": {},
   "source": [
    "We could also encapsulate the lambda logic in a separate user defined function and just call that. Think carefully about the difference and when you might want to apply each of these two approaches."
   ]
  },
  {
   "cell_type": "code",
   "execution_count": null,
   "metadata": {
    "collapsed": false,
    "scrolled": true
   },
   "outputs": [],
   "source": [
    "# Approach 2\n",
    "def abbrev_upper(longstring, abbrev_len):\n",
    "    return longstring[0:abbrev_len].upper()\n",
    "\n",
    "sched_df['Service_short_2'] = sched_df['Service'].map(lambda x: abbrev_upper(x, 3))\n",
    "print(sched_df['Service_short_2'].head())"
   ]
  },
  {
   "cell_type": "markdown",
   "metadata": {},
   "source": [
    "### Basic summary stats ###\n",
    "\n",
    "Let's start with some basic summary statistics regarding lead time by various dimensions.\n",
    "\n",
    "Since ScheduledDaysInAdvance is the only measure, we'll do a bunch  of descriptive statistics on it."
   ]
  },
  {
   "cell_type": "code",
   "execution_count": null,
   "metadata": {
    "collapsed": false
   },
   "outputs": [],
   "source": [
    "sched_df['ScheduledDaysInAdvance'].describe()"
   ]
  },
  {
   "cell_type": "markdown",
   "metadata": {},
   "source": [
    "This is similar to R's `summary()` function. A few questions:\n",
    "\n",
    "* What pandas data type is returned by `describe`? \n",
    "* What shape is the object returned by `describe`?\n",
    "* What does `describe` do for a column like InsuranceStatus?\n",
    "* What happens if you use `describe` on a data frame?"
   ]
  },
  {
   "cell_type": "markdown",
   "metadata": {},
   "source": [
    "How about some percentiles?"
   ]
  },
  {
   "cell_type": "code",
   "execution_count": null,
   "metadata": {
    "collapsed": false
   },
   "outputs": [],
   "source": [
    "p05_leadtime = sched_df.ScheduledDaysInAdvance.quantile(0.05)\n",
    "p05_leadtime"
   ]
  },
  {
   "cell_type": "code",
   "execution_count": null,
   "metadata": {
    "collapsed": false
   },
   "outputs": [],
   "source": [
    "p95_leadtime = sched_df['ScheduledDaysInAdvance'].quantile(0.95)\n",
    "p95_leadtime"
   ]
  },
  {
   "cell_type": "markdown",
   "metadata": {},
   "source": [
    "### Histogram and box plot ###\n",
    "\n",
    "A popular plotting module for Python is [matplotlib](http://matplotlib.org/). The project homepage has many links to resources for learning it, with a very good place to start\n",
    "being the official [documentation](http://matplotlib.org/contents.html) and the [gallery of graphs](http://matplotlib.org/gallery.html). The are a few modes of using matplotlib. There is a **pyplot** mode which is particularly well suited for interactive plotting\n",
    "in a Python shell like [IPython](http://ipython.org/) (much like one would work in Mathematica or MATLAB). You can also use matplotlib within Python scripts either with\n",
    "the pyplot commands or via an objected oriented API (similar to [ggplot2](http://ggplot2.org/) for plotting in [R](http://www.r-project.org/))."
   ]
  },
  {
   "cell_type": "markdown",
   "metadata": {},
   "source": [
    "Here is a basic histogram for ScheduledDaysInAdvance. For a more API based approach, see [this example from the matplotlib page](http://matplotlib.org/examples/statistics/histogram_demo_features.html) as\n",
    "well as the next version of our histogram below."
   ]
  },
  {
   "cell_type": "code",
   "execution_count": null,
   "metadata": {
    "collapsed": false
   },
   "outputs": [],
   "source": [
    "import numpy as np\n",
    "import matplotlib\n",
    "import matplotlib.mlab as mlab\n",
    "import matplotlib.pyplot as plt\n",
    "from IPython.core.display import display # This was the missing import"
   ]
  },
  {
   "cell_type": "code",
   "execution_count": null,
   "metadata": {
    "collapsed": false
   },
   "outputs": [],
   "source": [
    "print (\"matplotlib version \", matplotlib.__version__)"
   ]
  },
  {
   "cell_type": "code",
   "execution_count": null,
   "metadata": {
    "collapsed": true
   },
   "outputs": [],
   "source": [
    "%matplotlib inline"
   ]
  },
  {
   "cell_type": "code",
   "execution_count": null,
   "metadata": {
    "collapsed": false
   },
   "outputs": [],
   "source": [
    "data = sched_df['ScheduledDaysInAdvance']\n",
    "print(len(data))"
   ]
  },
  {
   "cell_type": "markdown",
   "metadata": {},
   "source": [
    "We'll use Sturges' Rule to determine the number of bins to use for our histogram. While this rule has some shortcomings, it's good enough for this example. See https://en.wikipedia.org/wiki/Histogram#Number_of_bins_and_width."
   ]
  },
  {
   "cell_type": "code",
   "execution_count": null,
   "metadata": {
    "collapsed": true
   },
   "outputs": [],
   "source": [
    "import math"
   ]
  },
  {
   "cell_type": "code",
   "execution_count": null,
   "metadata": {
    "collapsed": false
   },
   "outputs": [],
   "source": [
    "# Let's figure out how to compute this\n",
    "num_bins = ???\n",
    "print(num_bins)"
   ]
  },
  {
   "cell_type": "code",
   "execution_count": null,
   "metadata": {
    "collapsed": false
   },
   "outputs": [],
   "source": [
    "\"\"\"\n",
    "Demo of the histogram (hist) function with a few features.\n",
    "\n",
    "In addition to the basic histogram, this demo shows a few optional features:\n",
    "\n",
    "    * Setting the number of data bins\n",
    "    * The ``normed`` flag, which normalizes bin heights so that the integral of\n",
    "      the histogram is 1. The resulting histogram is a probability density.\n",
    "    * Setting the face color of the bars\n",
    "    * Setting the opacity (alpha value).\n",
    "\n",
    "\"\"\"\n",
    "\n",
    "# the histogram of the data\n",
    "# normed=1 plots probs instead of counts, alpha in [0,1] is transparency level (RGBA colors)\n",
    "plt.hist(data, num_bins, normed=1, facecolor='green', alpha=0.5)\n",
    "plt.xlabel('Days')\n",
    "plt.ylabel('Probability')\n",
    "plt.title('Histogram of Schedule Lead Time')\n",
    "plt.axis([0, 200, 0, 0.06])\n",
    "plt.grid(True)\n",
    "plt.show()\n"
   ]
  },
  {
   "cell_type": "code",
   "execution_count": null,
   "metadata": {
    "collapsed": false
   },
   "outputs": [],
   "source": [
    "\"\"\"\n",
    "Same as demo above but modified number of bins, color of bars and transparency level\n",
    "\n",
    "In addition to the basic histogram, this demo shows a few optional features:\n",
    "\n",
    "    * Setting the number of data bins\n",
    "    * The ``normed`` flag, which normalizes bin heights so that the integral of\n",
    "      the histogram is 1. The resulting histogram is a probability density.\n",
    "    * Setting the face color of the bars\n",
    "    * Setting the opacity (alpha value).\n",
    "\n",
    "\"\"\"\n",
    "\n",
    "# the histogram of the data\n",
    "# normed=1 plots probs instead of counts, alpha in [0,1] is transparency level (RGBA colors)\n",
    "plt.hist(data, 50, normed=1, facecolor='blue', alpha=0.75)\n",
    "plt.xlabel('Days')\n",
    "plt.ylabel('Probability')\n",
    "plt.title('Histogram of Schedule Lead Time')\n",
    "plt.axis([0, 200, 0, 0.06])\n",
    "plt.grid(True)\n",
    "plt.show()"
   ]
  },
  {
   "cell_type": "markdown",
   "metadata": {},
   "source": [
    "Now let's make the bars grey so we can start to see how to reference plot parts and modify them. This takes a while to learn and I make heavy use\n",
    "of Stack Overflow - [http://stackoverflow.com/questions/14088687/python-changing-plot-background-color-in-matplotlib](http://stackoverflow.com/questions/14088687/python-changing-plot-background-color-in-matplotlib).\n",
    "The matplotlib [hist() documentation](http://matplotlib.org/api/pyplot_api.html?highlight=hist#matplotlib.pyplot.hist) is essential. A useful [demo](http://matplotlib.org/examples/pylab_examples/histogram_demo_extended.html) is \n",
    "included in the matplotlib [examples area](http://matplotlib.org/examples/index.html)."
   ]
  },
  {
   "cell_type": "markdown",
   "metadata": {},
   "source": [
    "The `pyplot.hist()` function actually returns a tuple (*n, bins, patches*) where *n* is an array of y values, *bins* is an array of left bin edges on x-axis, and *patches* is a\n",
    "list of `Patch` objects (the bars in this case). By creating histogram and capturing the return values, we can make it easier to make changes to the graph. In addition, notice that\n",
    "we are saving the `Figure` and `Axes` objects. If we were writing code in Python script, we could iteratively update a graph with a sequence of pyplot commands since they always\n",
    "correspond to the *current figure*. However, in an IPython/Jupyter notebook, the reference to the current figure is lost everytime a cell is evaluated. By creating the variables `fig` and \n",
    "`ax` below, we can get around this problem. Remember, we can still create a plot with a sequence of pyplot commands as long as we do it all within one cell (just as we did above\n",
    "with the first histogram)."
   ]
  },
  {
   "cell_type": "code",
   "execution_count": null,
   "metadata": {
    "collapsed": false
   },
   "outputs": [],
   "source": [
    "fig1 = plt.figure()\n",
    "ax1 = fig1.add_subplot(1,1,1)\n",
    "n, bins, patches = plt.hist(sched_df['ScheduledDaysInAdvance'], 50, normed=1, facecolor='grey', alpha=0.75)"
   ]
  },
  {
   "cell_type": "markdown",
   "metadata": {},
   "source": [
    "Now let's change the bars to blue and the plot area background to a light grey. For both, we will be setting a `facecolor` property. For the bars it will be the facecolor of the \n",
    "`Patch` objects in the patches variable and for the plot area background it will be the facecolor of the `Axes` object associated with this plot. So, plots are housed inside figures. A figure could\n",
    "contain multiple subplots (more on this soon). Each plot contains an `Axes` object that knows all about the axes of the plot. Time spent perusing examples and checking the documentation\n",
    "at the matplotlib site is time well spent if you want to learn matplotlib."
   ]
  },
  {
   "cell_type": "code",
   "execution_count": null,
   "metadata": {
    "collapsed": false
   },
   "outputs": [],
   "source": [
    "ax1.patch.set_facecolor('#F0F0F0')\n",
    "ax1.set_title('Histogram of Scheduled Lead Time')\n",
    "ax1.set_xlabel('Days')\n",
    "ax1.set_ylabel('Probability')\n",
    "ax1.grid(True, color='k')\n",
    "[axp.set_facecolor('blue') for axp in ax1.patches] \n",
    "\n",
    "# Seems like there should be a simpler way. Of course, it's easy \n",
    "# to just rerun the plt.hist() with the desired color.\n",
    "# However, this fine level of control makes it possible to set individual\n",
    "# bar colors based on some condition. In fact, when you originally create the histogram and are specifying the\n",
    "# color property you can actually set color=[<some list>] where the list contains the colors of each bar. In the\n",
    "# process of generating the color list you could do all kinds of logical tests to pick the color of each bar.\n",
    "display(fig1)\n"
   ]
  },
  {
   "cell_type": "markdown",
   "metadata": {},
   "source": [
    "Admittedly, matplotlib can be tricky to work with because of it's very detailed API. The pandas project provides some higher level wrapper functions to matplotlib to make\n",
    "it a little easier to create standard plots. This is an area that pandas is actively working to expand. Let's recreate the first histogram with pandas and overlay a density plot\n",
    "on it as well. Let's also truncate the x-axis at 100 so we can see the details a little better."
   ]
  },
  {
   "cell_type": "code",
   "execution_count": null,
   "metadata": {
    "collapsed": false
   },
   "outputs": [],
   "source": [
    "sched_df['ScheduledDaysInAdvance'].hist(bins=50, color='k', alpha=0.3, normed=True)\n",
    "sched_df['ScheduledDaysInAdvance'].plot(kind='kde', style='k--', xlim=[0,100], title='Histo of Sched Lead Time (using pandas)')"
   ]
  },
  {
   "cell_type": "markdown",
   "metadata": {},
   "source": [
    "### Box plots ###\n",
    "\n",
    "We'll start with a basic box plot of lead time grouped by insurance status. The [matplotlib boxplot demo](http://matplotlib.org/examples/pylab_examples/boxplot_demo.html) and \n",
    "[more advanced demo](http://matplotlib.org/examples/pylab_examples/boxplot_demo2.html ) are quite helpful. In particular,\n",
    "we see that stacked box plots are possible by passing in a list of data vectors to be summarized. So, we could do the group by data shaping to create the list to pass in to\n",
    "matplotlib `boxplot()` function. Seems like a job for pandas.  "
   ]
  },
  {
   "cell_type": "code",
   "execution_count": null,
   "metadata": {
    "collapsed": false
   },
   "outputs": [],
   "source": [
    "\n",
    "bp = sched_df.boxplot(column='ScheduledDaysInAdvance', by='InsuranceStatus')\n",
    "fig2 = plt.gcf() # 'g'et 'c'urrent 'f'igure so we can use it later\n",
    "ax2 = plt.gca()  # 'g'et 'c'urrent 'a'xes so we can use it later"
   ]
  },
  {
   "cell_type": "markdown",
   "metadata": {},
   "source": [
    "Let's try rotating x-axis labels. Much searching and trying leads to learning how to set X-axis label rotation. It's easier if you are creating the plot rather than modifying and existing plot."
   ]
  },
  {
   "cell_type": "code",
   "execution_count": null,
   "metadata": {
    "collapsed": false
   },
   "outputs": [],
   "source": [
    "labels = ax2.get_xticklabels()\n",
    "for label in labels:\n",
    "    label.set_rotation(90)\n",
    "display(fig2)"
   ]
  },
  {
   "cell_type": "markdown",
   "metadata": {},
   "source": [
    "Still hard to read, let's recreate the boxplot as a horizontally oriented set of plots."
   ]
  },
  {
   "cell_type": "code",
   "execution_count": null,
   "metadata": {
    "collapsed": false
   },
   "outputs": [],
   "source": [
    "bp = sched_df.boxplot(column='ScheduledDaysInAdvance', by='InsuranceStatus', vert=False)"
   ]
  },
  {
   "cell_type": "markdown",
   "metadata": {},
   "source": [
    "### Group by summaries ###\n",
    "Everything we've done so far (except for the box plots) has not considered any of the dimensions (factors, group by fields, etc.). Pandas is well suited for grouping and\n",
    "aggregation. We'll do means and 95th percentiles of ScheduledDaysInAdvance by Urgency.\n",
    "\n",
    "Start by creating a `GroupBy` object. A pandas `GroupBy` object doesn't actually do any aggregate math yet - it just creates a data structure that is \"ready\" for such operations."
   ]
  },
  {
   "cell_type": "code",
   "execution_count": null,
   "metadata": {
    "collapsed": true
   },
   "outputs": [],
   "source": [
    "sched_df_grp1 = sched_df.groupby(['Urgency'])"
   ]
  },
  {
   "cell_type": "markdown",
   "metadata": {},
   "source": [
    "Now we can use it to compute whatever summary stats we'd like."
   ]
  },
  {
   "cell_type": "code",
   "execution_count": null,
   "metadata": {
    "collapsed": false
   },
   "outputs": [],
   "source": [
    "# counts by Urgency\n",
    "counts_by_urgency = sched_df_grp1['ScheduledDaysInAdvance'].size()\n",
    "print(counts_by_urgency)\n",
    "\n",
    "# Let's see what data structure the expression above actually is. What do you think it is?\n",
    "type(counts_by_urgency)"
   ]
  },
  {
   "cell_type": "code",
   "execution_count": null,
   "metadata": {
    "collapsed": false
   },
   "outputs": [],
   "source": [
    "# mean of ScheduledDaysInAdvance by Urgency\n",
    "sched_df_grp1['ScheduledDaysInAdvance'].mean()"
   ]
  },
  {
   "cell_type": "code",
   "execution_count": null,
   "metadata": {
    "collapsed": false
   },
   "outputs": [],
   "source": [
    "# 95th percentile of ScheduledDaysInAdvance by Urgency\n",
    "sched_df_grp1['ScheduledDaysInAdvance'].quantile(0.95)"
   ]
  },
  {
   "cell_type": "markdown",
   "metadata": {},
   "source": [
    "Now group by Urgency and InsStatus and recompute the summary statistics."
   ]
  },
  {
   "cell_type": "code",
   "execution_count": null,
   "metadata": {
    "collapsed": false
   },
   "outputs": [],
   "source": [
    "sched_df_grp2 = sched_df.groupby(['Urgency','InsuranceStatus'])\n",
    "sched_df_grp2['ScheduledDaysInAdvance'].mean()"
   ]
  },
  {
   "cell_type": "code",
   "execution_count": null,
   "metadata": {
    "collapsed": false
   },
   "outputs": [],
   "source": [
    "sched_df_grp2['ScheduledDaysInAdvance'].quantile(0.95)"
   ]
  },
  {
   "cell_type": "markdown",
   "metadata": {},
   "source": [
    "### Histograms revisited ###\n",
    "Let's just see how easy it is do a matrix of histograms - something that is no fun at all in Excel."
   ]
  },
  {
   "cell_type": "code",
   "execution_count": null,
   "metadata": {
    "collapsed": false
   },
   "outputs": [],
   "source": [
    "sched_df['ScheduledDaysInAdvance'].hist(bins=50, facecolor='k', alpha=0.3, normed=True, by=sched_df['Urgency'])"
   ]
  },
  {
   "cell_type": "markdown",
   "metadata": {},
   "source": [
    "The output of the `hist()` function with the `by` keyword is an array of lists of `AxesSubplotObjects`. Each row of the array contains a list with two elements each. If you want to\n",
    "suppress that Out[] message above the graph, just end the In[] line with a `;`.\n",
    "\n",
    "It looks like a pandas bug in that the histogram properties (such as color) specified aren't having any effect. Perhaps they can be changed after the plotting. Something to explore later.\n",
    "\n"
   ]
  },
  {
   "cell_type": "markdown",
   "metadata": {},
   "source": [
    "## Related Links ##\n",
    "\n",
    "- [matplotlib api date demo with tick and label formatting](http://matplotlib.org/examples/api/date_demo.html)\n",
    "- [matplotlib tutorial](http://www.loria.fr/~rougier/teaching/matplotlib/#tutorials)\n"
   ]
  },
  {
   "cell_type": "markdown",
   "metadata": {
    "collapsed": false
   },
   "source": [
    "## Solutions to Challenges"
   ]
  },
  {
   "cell_type": "markdown",
   "metadata": {
    "collapsed": false
   },
   "source": [
    "### Questions about `describe`"
   ]
  },
  {
   "cell_type": "markdown",
   "metadata": {},
   "source": [
    "A few questions:\n",
    "\n",
    "* What pandas data type is returned by `describe`? \n",
    "* What shape is the object returned by `describe`?\n",
    "* What does `describe` do for a column like InsuranceStatus?\n",
    "* What happens if you use `describe` on a data frame?"
   ]
  },
  {
   "cell_type": "code",
   "execution_count": null,
   "metadata": {
    "collapsed": false
   },
   "outputs": [],
   "source": [
    "# What pandas data type is returned by describe?\n",
    "type(sched_df.ScheduledDaysInAdvance.describe())"
   ]
  },
  {
   "cell_type": "code",
   "execution_count": null,
   "metadata": {
    "collapsed": false
   },
   "outputs": [],
   "source": [
    "# What shape is the object returned by describe?\n",
    "sched_df.ScheduledDaysInAdvance.describe().shape"
   ]
  },
  {
   "cell_type": "code",
   "execution_count": null,
   "metadata": {
    "collapsed": false
   },
   "outputs": [],
   "source": [
    "# What does describe do for a column like InsuranceStatus?\n",
    "sched_df.InsuranceStatus.describe()"
   ]
  },
  {
   "cell_type": "code",
   "execution_count": null,
   "metadata": {
    "collapsed": false
   },
   "outputs": [],
   "source": [
    "# What happens if you use describe on a data frame?\n",
    "sched_df.describe()"
   ]
  },
  {
   "cell_type": "markdown",
   "metadata": {},
   "source": [
    "### Selecting multiple columns and using boolean indexing for rows"
   ]
  },
  {
   "cell_type": "code",
   "execution_count": null,
   "metadata": {
    "collapsed": false
   },
   "outputs": [],
   "source": [
    "# You try it\n",
    "\n",
    "# Select the PatientID, Service, InsuranceStatus and Urgency columns for those rows in \n",
    "# which ScheduledDaysInAdvance is greater than 60.\n",
    "\n",
    "data_1 = sched_df[sched_df.ScheduledDaysInAdvance > 60][['PatientID','Service','InsuranceStatus','Urgency']]"
   ]
  },
  {
   "cell_type": "code",
   "execution_count": null,
   "metadata": {
    "collapsed": false
   },
   "outputs": [],
   "source": [
    "data_1"
   ]
  },
  {
   "cell_type": "markdown",
   "metadata": {},
   "source": [
    "### Sturges rule"
   ]
  },
  {
   "cell_type": "code",
   "execution_count": null,
   "metadata": {
    "collapsed": false
   },
   "outputs": [],
   "source": [
    "# Let's figure out how to compute this\n",
    "num_bins = math.ceil(math.log2(len(sched_df)))\n",
    "print(num_bins)"
   ]
  },
  {
   "cell_type": "code",
   "execution_count": null,
   "metadata": {
    "collapsed": true
   },
   "outputs": [],
   "source": []
  }
 ],
 "metadata": {
  "anaconda-cloud": {},
  "kernelspec": {
   "display_name": "Python [Root]",
   "language": "python",
   "name": "Python [Root]"
  },
  "language_info": {
   "codemirror_mode": {
    "name": "ipython",
    "version": 3
   },
   "file_extension": ".py",
   "mimetype": "text/x-python",
   "name": "python",
   "nbconvert_exporter": "python",
   "pygments_lexer": "ipython3",
   "version": "3.5.2"
  }
 },
 "nbformat": 4,
 "nbformat_minor": 0
}
